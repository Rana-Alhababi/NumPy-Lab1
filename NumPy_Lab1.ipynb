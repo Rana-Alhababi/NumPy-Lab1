{
  "cells": [
    {
      "cell_type": "code",
      "execution_count": 52,
      "id": "212fd1ba",
      "metadata": {
        "id": "212fd1ba"
      },
      "outputs": [],
      "source": [
        "import numpy as np"
      ]
    },
    {
      "cell_type": "markdown",
      "id": "10803eb0",
      "metadata": {
        "id": "10803eb0"
      },
      "source": [
        "## Q#1: Create x array with elements equal to 1."
      ]
    },
    {
      "cell_type": "code",
      "execution_count": 53,
      "id": "3307454f",
      "metadata": {
        "colab": {
          "base_uri": "https://localhost:8080/"
        },
        "id": "3307454f",
        "outputId": "8d31c018-2491-41b2-a8d5-5981977194b3"
      },
      "outputs": [
        {
          "output_type": "execute_result",
          "data": {
            "text/plain": [
              "array([1., 1., 1., 1.])"
            ]
          },
          "metadata": {},
          "execution_count": 53
        }
      ],
      "source": [
        "# write your code here ^_^\n",
        "x = np.ones(4)\n",
        "x"
      ]
    },
    {
      "cell_type": "markdown",
      "id": "7795306d",
      "metadata": {
        "id": "7795306d"
      },
      "source": [
        "## Q#2: Create y array with elements equal to 0."
      ]
    },
    {
      "cell_type": "code",
      "execution_count": 54,
      "id": "9550b063",
      "metadata": {
        "colab": {
          "base_uri": "https://localhost:8080/"
        },
        "id": "9550b063",
        "outputId": "1f27a3d6-4eb5-4b11-fcca-f1fc2084a64b"
      },
      "outputs": [
        {
          "output_type": "execute_result",
          "data": {
            "text/plain": [
              "array([0., 0., 0., 0.])"
            ]
          },
          "metadata": {},
          "execution_count": 54
        }
      ],
      "source": [
        "# write your code here ^_^\n",
        "y = np.zeros(4)\n",
        "y"
      ]
    },
    {
      "cell_type": "markdown",
      "id": "cde6a939",
      "metadata": {
        "id": "cde6a939"
      },
      "source": [
        "## Q#3: Add x and y arrays."
      ]
    },
    {
      "cell_type": "code",
      "execution_count": 55,
      "id": "71070d1d",
      "metadata": {
        "colab": {
          "base_uri": "https://localhost:8080/"
        },
        "id": "71070d1d",
        "outputId": "98d5b592-f9f9-4758-818e-8b2f82efaceb"
      },
      "outputs": [
        {
          "output_type": "execute_result",
          "data": {
            "text/plain": [
              "array([1., 1., 1., 1.])"
            ]
          },
          "metadata": {},
          "execution_count": 55
        }
      ],
      "source": [
        "# write your code here ^_^\n",
        "result = x + y\n",
        "result\n"
      ]
    },
    {
      "cell_type": "markdown",
      "id": "ed854f4c",
      "metadata": {
        "id": "ed854f4c"
      },
      "source": [
        "## Q#4: Print x array characteristics (e.g: dimension, shape, size, type)."
      ]
    },
    {
      "cell_type": "code",
      "execution_count": 56,
      "id": "32627c83",
      "metadata": {
        "colab": {
          "base_uri": "https://localhost:8080/"
        },
        "id": "32627c83",
        "outputId": "ff7f4541-0ee2-4d68-94f0-9e084c2d493d"
      },
      "outputs": [
        {
          "output_type": "stream",
          "name": "stdout",
          "text": [
            "x array characteristics:\n",
            "Dimension: 1\n",
            "Shape: (4,)\n",
            "Size: 4\n",
            "Type: float64\n"
          ]
        }
      ],
      "source": [
        "# write your code here ^_^\n",
        "print(\"x array characteristics:\")\n",
        "print(f\"Dimension: {x.ndim}\")\n",
        "print(f\"Shape: {x.shape}\")\n",
        "print(f\"Size: {x.size}\")\n",
        "print(f\"Type: {x.dtype}\")"
      ]
    },
    {
      "cell_type": "markdown",
      "id": "dbd46a73",
      "metadata": {
        "id": "dbd46a73"
      },
      "source": [
        "## Q#5: Create a 2D array \"called w\" as the following:\n",
        "\n",
        "|       |          |\n",
        "| ----- | -------- |\n",
        "| 11    | 12       |\n",
        "| 13    | 14       |\n",
        "| 15    | 16       |\n"
      ]
    },
    {
      "cell_type": "code",
      "execution_count": 57,
      "id": "b9c7bbb0",
      "metadata": {
        "colab": {
          "base_uri": "https://localhost:8080/"
        },
        "id": "b9c7bbb0",
        "outputId": "946d88b0-81ef-42ca-95db-4a3c07fe5ce0"
      },
      "outputs": [
        {
          "output_type": "execute_result",
          "data": {
            "text/plain": [
              "array([[11, 12],\n",
              "       [13, 14],\n",
              "       [15, 16]])"
            ]
          },
          "metadata": {},
          "execution_count": 57
        }
      ],
      "source": [
        "# write your code here ^_^\n",
        "w = np.array([[11, 12], [13, 14], [15, 16]])\n",
        "w"
      ]
    },
    {
      "cell_type": "markdown",
      "id": "0e62bd09",
      "metadata": {
        "id": "0e62bd09"
      },
      "source": [
        "## Q#6: Create z array contains the numbers from 1 to 3."
      ]
    },
    {
      "cell_type": "code",
      "execution_count": 58,
      "id": "cee8aba0",
      "metadata": {
        "colab": {
          "base_uri": "https://localhost:8080/"
        },
        "id": "cee8aba0",
        "outputId": "a02eae02-9d54-4287-88b6-3f4085171015"
      },
      "outputs": [
        {
          "output_type": "execute_result",
          "data": {
            "text/plain": [
              "array([1, 2, 3])"
            ]
          },
          "metadata": {},
          "execution_count": 58
        }
      ],
      "source": [
        "# write your code here ^_^\n",
        "z = np.array([1, 2, 3])\n",
        "z"
      ]
    },
    {
      "cell_type": "markdown",
      "id": "32b00711",
      "metadata": {
        "id": "32b00711"
      },
      "source": [
        "## Q#7: Combine the arrays z and w in horizontal way then save it in a new variable \"newArray\"."
      ]
    },
    {
      "cell_type": "code",
      "execution_count": 59,
      "id": "d218f892",
      "metadata": {
        "colab": {
          "base_uri": "https://localhost:8080/"
        },
        "id": "d218f892",
        "outputId": "391b8bbf-0b9e-4077-fe91-6ddedb5914f6"
      },
      "outputs": [
        {
          "output_type": "execute_result",
          "data": {
            "text/plain": [
              "array([[ 1, 11, 12],\n",
              "       [ 2, 13, 14],\n",
              "       [ 3, 15, 16]])"
            ]
          },
          "metadata": {},
          "execution_count": 59
        }
      ],
      "source": [
        "# write your code here ^_^\n",
        "newArray = np.hstack((z[:, np.newaxis], w))\n",
        "newArray"
      ]
    },
    {
      "cell_type": "markdown",
      "id": "7e009910",
      "metadata": {
        "id": "7e009910"
      },
      "source": [
        "## Q#8: Print all elements of \"newArray\" using the loop."
      ]
    },
    {
      "cell_type": "code",
      "execution_count": 60,
      "id": "abbed923",
      "metadata": {
        "colab": {
          "base_uri": "https://localhost:8080/"
        },
        "id": "abbed923",
        "outputId": "98540b86-1f7f-4e1e-9c46-0f13f5debc24"
      },
      "outputs": [
        {
          "output_type": "stream",
          "name": "stdout",
          "text": [
            "Elements of newArray:\n",
            "1 11 12 \n",
            "2 13 14 \n",
            "3 15 16 \n"
          ]
        }
      ],
      "source": [
        "# write your code here ^_^\n",
        "print(\"Elements of newArray:\")\n",
        "for row in newArray:\n",
        "    for element in row:\n",
        "        print(element, end=\" \")\n",
        "    print()"
      ]
    },
    {
      "cell_type": "markdown",
      "id": "011c6d2d",
      "metadata": {
        "id": "011c6d2d"
      },
      "source": [
        "## Q#9: Reverse the columns and rows of \"newArray\"."
      ]
    },
    {
      "cell_type": "code",
      "execution_count": 61,
      "id": "12e3f0db",
      "metadata": {
        "colab": {
          "base_uri": "https://localhost:8080/"
        },
        "id": "12e3f0db",
        "outputId": "969d7eae-dbe5-4fdd-8e0b-e7b35a8a34d9"
      },
      "outputs": [
        {
          "output_type": "execute_result",
          "data": {
            "text/plain": [
              "array([[16, 15,  3],\n",
              "       [14, 13,  2],\n",
              "       [12, 11,  1]])"
            ]
          },
          "metadata": {},
          "execution_count": 61
        }
      ],
      "source": [
        "# write your code here ^_^\n",
        "newArray = newArray[::-1, ::-1]\n",
        "newArray"
      ]
    },
    {
      "cell_type": "markdown",
      "id": "f40b57c3",
      "metadata": {
        "id": "f40b57c3"
      },
      "source": [
        "## Q#10: Decrement all elements of \"newArray\" with 1."
      ]
    },
    {
      "cell_type": "code",
      "execution_count": 62,
      "id": "aea004df",
      "metadata": {
        "colab": {
          "base_uri": "https://localhost:8080/"
        },
        "id": "aea004df",
        "outputId": "a7cefb6f-a7ff-4bf8-943e-8b0b6060690d"
      },
      "outputs": [
        {
          "output_type": "execute_result",
          "data": {
            "text/plain": [
              "array([[15, 14,  2],\n",
              "       [13, 12,  1],\n",
              "       [11, 10,  0]])"
            ]
          },
          "metadata": {},
          "execution_count": 62
        }
      ],
      "source": [
        "# write your code here ^_^\n",
        "def f(x):\n",
        "  return x-1\n",
        "newArray=f(newArray)\n",
        "newArray"
      ]
    },
    {
      "cell_type": "markdown",
      "id": "8901e8be",
      "metadata": {
        "id": "8901e8be"
      },
      "source": [
        "## Q#11: Find smallest and biggest values in \"newArray\"."
      ]
    },
    {
      "cell_type": "code",
      "execution_count": 63,
      "id": "4ea08613",
      "metadata": {
        "colab": {
          "base_uri": "https://localhost:8080/"
        },
        "id": "4ea08613",
        "outputId": "6145dc3b-64a7-43a5-e876-373d468ce15b"
      },
      "outputs": [
        {
          "output_type": "stream",
          "name": "stdout",
          "text": [
            "Smallest value: 0\n",
            "Biggest value: 15\n"
          ]
        }
      ],
      "source": [
        "# write your code here ^_^\n",
        "smallest = np.min(newArray)\n",
        "biggest = np.max(newArray)\n",
        "print(f\"Smallest value: {smallest}\")\n",
        "print(f\"Biggest value: {biggest}\")"
      ]
    },
    {
      "cell_type": "markdown",
      "id": "c5d5d4ca",
      "metadata": {
        "id": "c5d5d4ca"
      },
      "source": [
        "## Q#12: Print the first row of \"newArray\" using indexing."
      ]
    },
    {
      "cell_type": "code",
      "execution_count": 64,
      "id": "73e3b5a5",
      "metadata": {
        "colab": {
          "base_uri": "https://localhost:8080/"
        },
        "id": "73e3b5a5",
        "outputId": "e3dd90a8-e71f-42bc-f560-ad17b472dc13"
      },
      "outputs": [
        {
          "output_type": "stream",
          "name": "stdout",
          "text": [
            "First row of newArray: [15 14  2]\n"
          ]
        }
      ],
      "source": [
        "# write your code here ^_^\n",
        "first_row = newArray[0, :]\n",
        "print(\"First row of newArray:\", first_row)"
      ]
    },
    {
      "cell_type": "markdown",
      "id": "78f4d6c1",
      "metadata": {
        "id": "78f4d6c1"
      },
      "source": [
        "## Q#13: Print the number equals 12 of \"newArray\" using indexing."
      ]
    },
    {
      "cell_type": "code",
      "execution_count": 65,
      "id": "7ad660b7",
      "metadata": {
        "colab": {
          "base_uri": "https://localhost:8080/"
        },
        "id": "7ad660b7",
        "outputId": "c04599ba-0bea-48fb-a67a-a3d6114629ce"
      },
      "outputs": [
        {
          "output_type": "stream",
          "name": "stdout",
          "text": [
            "Number equal to 12 in newArray: [12]\n"
          ]
        }
      ],
      "source": [
        "# write your code here ^_^\n",
        "num_12 = newArray[newArray == 12]\n",
        "print(\"Number equal to 12 in newArray:\", num_12)\n"
      ]
    },
    {
      "cell_type": "markdown",
      "id": "932b5c3d",
      "metadata": {
        "id": "932b5c3d"
      },
      "source": [
        "## Q#14: Print the numbers equal 0 and 13 of \"newArray\" using indexing."
      ]
    },
    {
      "cell_type": "code",
      "execution_count": 66,
      "id": "31fb5fd0",
      "metadata": {
        "colab": {
          "base_uri": "https://localhost:8080/"
        },
        "id": "31fb5fd0",
        "outputId": "3c134507-9567-4f2f-9ebc-20550a0ba0a9"
      },
      "outputs": [
        {
          "output_type": "stream",
          "name": "stdout",
          "text": [
            "Numbers equal to 0 and 13 in newArray: [13  0]\n"
          ]
        }
      ],
      "source": [
        "# write your code here ^_^\n",
        "num_0_13 = newArray[(newArray == 0) | (newArray == 13)]\n",
        "print(\"Numbers equal to 0 and 13 in newArray:\", num_0_13)"
      ]
    },
    {
      "cell_type": "markdown",
      "id": "27e0f68e",
      "metadata": {
        "id": "27e0f68e"
      },
      "source": [
        "## Q#15: Change the shape of \"newArray\" to (9,1)."
      ]
    },
    {
      "cell_type": "code",
      "execution_count": 67,
      "id": "35f224ad",
      "metadata": {
        "colab": {
          "base_uri": "https://localhost:8080/"
        },
        "id": "35f224ad",
        "outputId": "d1996d0c-0dc2-45e3-ea01-403cfd85db88"
      },
      "outputs": [
        {
          "output_type": "execute_result",
          "data": {
            "text/plain": [
              "array([[15],\n",
              "       [14],\n",
              "       [ 2],\n",
              "       [13],\n",
              "       [12],\n",
              "       [ 1],\n",
              "       [11],\n",
              "       [10],\n",
              "       [ 0]])"
            ]
          },
          "metadata": {},
          "execution_count": 67
        }
      ],
      "source": [
        "# write your code here ^_^\n",
        "newArray = newArray.reshape((9, 1))\n",
        "newArray"
      ]
    },
    {
      "cell_type": "markdown",
      "id": "e6d104c5",
      "metadata": {
        "id": "e6d104c5"
      },
      "source": [
        "## Q#16: Change the shape of \"newArray\" to (3,3)."
      ]
    },
    {
      "cell_type": "code",
      "execution_count": 68,
      "id": "724d51d5",
      "metadata": {
        "colab": {
          "base_uri": "https://localhost:8080/"
        },
        "id": "724d51d5",
        "outputId": "8d30446a-7732-438f-ecf8-473d6ba95f8a"
      },
      "outputs": [
        {
          "output_type": "execute_result",
          "data": {
            "text/plain": [
              "array([[15, 14,  2],\n",
              "       [13, 12,  1],\n",
              "       [11, 10,  0]])"
            ]
          },
          "metadata": {},
          "execution_count": 68
        }
      ],
      "source": [
        "# write your code here ^_^\n",
        "newArray = newArray.reshape((3, 3))\n",
        "newArray"
      ]
    },
    {
      "cell_type": "markdown",
      "id": "09567fdc",
      "metadata": {
        "id": "09567fdc"
      },
      "source": [
        "# Well Done 🎉"
      ]
    }
  ],
  "metadata": {
    "kernelspec": {
      "display_name": "Python 3 (ipykernel)",
      "language": "python",
      "name": "python3"
    },
    "language_info": {
      "codemirror_mode": {
        "name": "ipython",
        "version": 3
      },
      "file_extension": ".py",
      "mimetype": "text/x-python",
      "name": "python",
      "nbconvert_exporter": "python",
      "pygments_lexer": "ipython3",
      "version": "3.9.12"
    },
    "colab": {
      "provenance": []
    }
  },
  "nbformat": 4,
  "nbformat_minor": 5
}